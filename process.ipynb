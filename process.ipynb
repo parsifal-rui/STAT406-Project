{
 "cells": [
  {
   "cell_type": "code",
   "execution_count": 2,
   "metadata": {},
   "outputs": [],
   "source": [
    "import numpy as np\n",
    "faces = np.loadtxt('face.txt')\n",
    "training_faces = faces[:2100]\n",
    "test_faces = faces[2101:]\n",
    "np.savetxt('train.txt', training_faces)\n",
    "np.savetxt('test.txt', test_faces)\n"
   ]
  },
  {
   "cell_type": "code",
   "execution_count": 2,
   "metadata": {},
   "outputs": [],
   "source": [
    "\n",
    "\n",
    "# 读取原始测试数据\n",
    "test_faces = np.loadtxt('test.txt')\n",
    "\n",
    "# 生成错误的测试数据\n",
    "# 1. 添加随机噪声\n",
    "noise = np.random.normal(0, 0.2, test_faces.shape)  # 均值为0，标准差为0.2的高斯噪声\n",
    "wrong_faces = test_faces + noise\n",
    "\n",
    "# 2. 确保数值在合理范围内 (0-1之间)\n",
    "wrong_faces = np.clip(wrong_faces, 0, 1)\n",
    "\n",
    "# 3. 随机翻转一些像素值\n",
    "flip_mask = np.random.random(test_faces.shape) < 0.1  # 随机翻转10%的像素\n",
    "wrong_faces[flip_mask] = 1 - wrong_faces[flip_mask]\n",
    "\n",
    "# 保存到文件\n",
    "np.savetxt('wrong_test.txt', wrong_faces, fmt='%.18e')"
   ]
  },
  {
   "cell_type": "code",
   "execution_count": 3,
   "metadata": {},
   "outputs": [],
   "source": [
    "\n",
    "\n",
    "# 读取原始测试数据\n",
    "test_faces = np.loadtxt('test.txt')\n",
    "\n",
    "# 生成错误的测试数据\n",
    "# 1. 添加随机噪声\n",
    "noise = np.random.normal(0, 0.2, test_faces.shape)  # 均值为0，标准差为0.2的高斯噪声\n",
    "wrong_faces = noise\n",
    "\n",
    "# 2. 确保数值在合理范围内 (0-1之间)\n",
    "wrong_faces = np.clip(wrong_faces, 0, 1)\n",
    "\n",
    "# 3. 随机翻转一些像素值\n",
    "flip_mask = np.random.random(test_faces.shape) < 0.1  # 随机翻转10%的像素\n",
    "wrong_faces[flip_mask] = 1 - wrong_faces[flip_mask]\n",
    "\n",
    "# 保存到文件\n",
    "np.savetxt('noise_test.txt', wrong_faces, fmt='%.18e')"
   ]
  },
  {
   "cell_type": "code",
   "execution_count": 3,
   "metadata": {},
   "outputs": [],
   "source": [
    "import numpy as np\n",
    "# 读取19x19的数据\n",
    "horse = np.loadtxt('test2.txt')\n",
    "\n",
    "# 使用reshape将数据转换为1行361列\n",
    "# -1表示自动计算这个维度的大小\n",
    "horse_flattened = horse.reshape(1, -1)\n",
    "horse_normalized = horse_flattened / 255.0\n",
    "\n",
    "# 保存转换后的数据到horse.txt\n",
    "np.savetxt('test2_bw.txt', horse_normalized,fmt='%.6f')"
   ]
  }
 ],
 "metadata": {
  "kernelspec": {
   "display_name": "base",
   "language": "python",
   "name": "python3"
  },
  "language_info": {
   "codemirror_mode": {
    "name": "ipython",
    "version": 3
   },
   "file_extension": ".py",
   "mimetype": "text/x-python",
   "name": "python",
   "nbconvert_exporter": "python",
   "pygments_lexer": "ipython3",
   "version": "3.11.5"
  }
 },
 "nbformat": 4,
 "nbformat_minor": 2
}
